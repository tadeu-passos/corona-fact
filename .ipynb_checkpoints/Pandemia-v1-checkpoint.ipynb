{
 "cells": [
  {
   "cell_type": "code",
   "execution_count": 1,
   "metadata": {},
   "outputs": [],
   "source": [
    "import numpy as np\n",
    "import matplotlib.pyplot as plt\n",
    "import time"
   ]
  },
  {
   "cell_type": "code",
   "execution_count": 2,
   "metadata": {},
   "outputs": [],
   "source": [
    "class Pandemic:\n",
    "    def __init__(self, pop_size, i0, avg_exposure):\n",
    "        self.pop_size = pop_size\n",
    "        self.i0 = i0\n",
    "        self.avg_exposure = avg_exposure\n",
    "        self.reset()\n",
    "    \n",
    "    def reset(self):\n",
    "        self.transition = self.getDeterministicTransition()\n",
    "        self.state = self.genInitialState()\n",
    "    \n",
    "    def getDeterministicTransition(self):\n",
    "        size = self.pop_size\n",
    "        avg_exposure = self.avg_exposure\n",
    "        exposure = np.random.poisson(avg_exposure, size)\n",
    "        graph = np.zeros((size, size))\n",
    "        for i, n in enumerate(exposure):\n",
    "            for j in np.random.choice(size, n, False):\n",
    "                graph[i, j] = 0.5\n",
    "        graph = np.tril(graph, -1) + np.tril(graph, -1).T\n",
    "\n",
    "        return graph\n",
    "    \n",
    "    def genInitialState(self):\n",
    "        size = self.pop_size\n",
    "        i0 = self.i0\n",
    "        state = {\n",
    "            'S' : np.arange(size),\n",
    "            'I' : [],\n",
    "            'R' : [],\n",
    "            'D' : [],\n",
    "            'I_t' : np.random.normal(14, 2, size).astype(int),\n",
    "            'risk' : np.random.choice([0.002,0.004,0.013,0.036,0.08,0.148], size, p=[0.64,0.14,0.11,0.064,0.036,0.01])\n",
    "        }\n",
    "        \n",
    "        new_infected = np.random.choice(size, i0, False)\n",
    "        state['I'] = new_infected\n",
    "        state['S'] = np.delete(state['S'], new_infected)\n",
    "            \n",
    "        return state\n",
    "    \n",
    "    def step(self):\n",
    "        for i in list(self.state['I']):\n",
    "            for j in np.nonzero(self.transition[i])[0]:\n",
    "                if j in self.state['S'] and np.random.random() < self.transition[i][j]:\n",
    "                    self.state['I'] = np.append(self.state['I'], j)\n",
    "                    self.state['S'] = self.state['S'][self.state['S'] != j]\n",
    "                    \n",
    "            if self.state['I_t'][i] > 0:\n",
    "                self.state['I_t'][i] -= 1\n",
    "            elif np.random.random() > self.state['risk'][i]:\n",
    "                self.state['I'] = self.state['I'][self.state['I'] != i]\n",
    "                self.state['R'] = np.append(self.state['R'], i)\n",
    "            else:\n",
    "                self.state['I'] = self.state['I'][self.state['I'] != i]\n",
    "                self.state['D'] = np.append(self.state['D'], i)\n",
    "                "
   ]
  },
  {
   "cell_type": "code",
   "execution_count": 3,
   "metadata": {},
   "outputs": [],
   "source": [
    "foo = Pandemic(100, 2, 2)"
   ]
  },
  {
   "cell_type": "code",
   "execution_count": 4,
   "metadata": {},
   "outputs": [
    {
     "data": {
      "text/plain": [
       "array([[0., 0., 0., ..., 0., 0., 0.],\n",
       "       [0., 0., 0., ..., 0., 0., 0.],\n",
       "       [0., 0., 0., ..., 0., 0., 0.],\n",
       "       ...,\n",
       "       [0., 0., 0., ..., 0., 0., 0.],\n",
       "       [0., 0., 0., ..., 0., 0., 0.],\n",
       "       [0., 0., 0., ..., 0., 0., 0.]])"
      ]
     },
     "execution_count": 4,
     "metadata": {},
     "output_type": "execute_result"
    }
   ],
   "source": [
    "foo.transition"
   ]
  },
  {
   "cell_type": "code",
   "execution_count": 5,
   "metadata": {},
   "outputs": [
    {
     "name": "stdout",
     "output_type": "stream",
     "text": [
      "{'S': array([ 0,  1,  2,  3,  4,  5,  6,  7,  8,  9, 10, 11, 12, 13, 14, 15, 16,\n",
      "       17, 18, 19, 20, 21, 22, 23, 24, 25, 26, 27, 28, 29, 30, 31, 32, 33,\n",
      "       34, 35, 36, 37, 38, 39, 40, 41, 42, 43, 44, 45, 46, 47, 48, 49, 50,\n",
      "       52, 53, 54, 55, 56, 58, 59, 60, 61, 62, 63, 64, 65, 66, 67, 68, 69,\n",
      "       70, 71, 72, 73, 74, 75, 76, 77, 78, 79, 80, 81, 82, 83, 84, 85, 86,\n",
      "       87, 88, 89, 90, 91, 92, 93, 94, 95, 96, 97, 98, 99]), 'I': array([57, 51]), 'R': [], 'D': [], 'I_t': array([17,  9, 15, 14, 15, 13, 13, 12, 17,  9, 18, 10, 12, 14, 15, 11, 11,\n",
      "       17, 12, 16, 16, 13, 12, 14, 13, 12, 11, 15, 11, 15, 13, 11, 12,  9,\n",
      "       13, 17, 11, 17, 15, 15, 11, 15, 16, 13, 13, 13, 12, 13, 11, 12,  8,\n",
      "       11,  8, 14, 16, 14, 13, 14,  8, 13, 15,  9, 12, 15, 10, 10, 10, 15,\n",
      "       14, 12, 13, 12, 14, 12, 13, 11, 11, 16, 11, 14, 12, 14, 13, 12, 13,\n",
      "       12, 16, 14, 17, 11, 14, 14, 11, 11, 13, 12, 12,  9, 13, 11]), 'risk': array([0.004, 0.013, 0.002, 0.013, 0.002, 0.002, 0.002, 0.002, 0.013,\n",
      "       0.004, 0.002, 0.004, 0.002, 0.002, 0.002, 0.002, 0.002, 0.002,\n",
      "       0.002, 0.004, 0.004, 0.148, 0.002, 0.004, 0.002, 0.002, 0.002,\n",
      "       0.002, 0.004, 0.08 , 0.002, 0.002, 0.002, 0.002, 0.036, 0.002,\n",
      "       0.002, 0.036, 0.08 , 0.002, 0.002, 0.08 , 0.002, 0.002, 0.013,\n",
      "       0.002, 0.002, 0.004, 0.002, 0.002, 0.002, 0.002, 0.002, 0.002,\n",
      "       0.002, 0.002, 0.013, 0.002, 0.002, 0.013, 0.004, 0.002, 0.002,\n",
      "       0.08 , 0.004, 0.002, 0.148, 0.002, 0.004, 0.002, 0.002, 0.002,\n",
      "       0.002, 0.002, 0.002, 0.002, 0.002, 0.002, 0.013, 0.036, 0.036,\n",
      "       0.08 , 0.002, 0.002, 0.002, 0.002, 0.002, 0.002, 0.002, 0.004,\n",
      "       0.08 , 0.002, 0.002, 0.002, 0.002, 0.036, 0.002, 0.013, 0.004,\n",
      "       0.002])}\n"
     ]
    }
   ],
   "source": [
    "print(foo.state)"
   ]
  },
  {
   "cell_type": "code",
   "execution_count": 6,
   "metadata": {},
   "outputs": [
    {
     "name": "stdout",
     "output_type": "stream",
     "text": [
      "{'S': {0: 1, 1: 1, 2: 1, 3: 1, 4: 1, 5: 1, 6: 1, 8: 1, 9: 1, 10: 1, 11: 1, 12: 1, 13: 1, 14: 1, 15: 1, 16: 1, 17: 1, 18: 1, 19: 1, 20: 1, 21: 1, 22: 1, 23: 1, 24: 1, 25: 1, 26: 1, 27: 1, 28: 1, 29: 1, 30: 1, 31: 1, 32: 1, 33: 1, 34: 1, 35: 1, 36: 1, 37: 1, 38: 1, 39: 1, 40: 1, 41: 1, 43: 1, 44: 1, 45: 1, 46: 1, 47: 1, 48: 1, 49: 1, 50: 1, 51: 1, 52: 1, 53: 1, 54: 1, 55: 1, 56: 1, 57: 1, 58: 1, 59: 1, 60: 1, 61: 1, 62: 1, 63: 1, 64: 1, 65: 1, 66: 1, 67: 1, 68: 1, 69: 1, 70: 1, 71: 1, 72: 1, 73: 1, 74: 1, 75: 1, 76: 1, 77: 1, 78: 1, 79: 1, 80: 1, 81: 1, 82: 1, 83: 1, 84: 1, 85: 1, 86: 1, 87: 1, 88: 1, 89: 1, 90: 1, 91: 1, 92: 1, 93: 1, 94: 1, 95: 1, 96: 1, 97: 1, 98: 1, 99: 1}, 'I': {7: 12, 42: 9}, 'R': {}}\n",
      "{'S': {0: 1, 1: 1, 2: 1, 3: 1, 4: 1, 5: 1, 6: 1, 8: 1, 9: 1, 10: 1, 11: 1, 12: 1, 13: 1, 14: 1, 16: 1, 17: 1, 18: 1, 19: 1, 20: 1, 21: 1, 22: 1, 23: 1, 24: 1, 25: 1, 26: 1, 27: 1, 28: 1, 29: 1, 30: 1, 31: 1, 32: 1, 33: 1, 34: 1, 35: 1, 36: 1, 37: 1, 38: 1, 39: 1, 40: 1, 41: 1, 43: 1, 44: 1, 45: 1, 46: 1, 47: 1, 48: 1, 49: 1, 50: 1, 51: 1, 52: 1, 53: 1, 54: 1, 55: 1, 56: 1, 57: 1, 58: 1, 59: 1, 60: 1, 61: 1, 62: 1, 63: 1, 64: 1, 65: 1, 66: 1, 67: 1, 68: 1, 69: 1, 70: 1, 71: 1, 72: 1, 73: 1, 74: 1, 75: 1, 76: 1, 77: 1, 78: 1, 79: 1, 80: 1, 81: 1, 82: 1, 83: 1, 84: 1, 85: 1, 86: 1, 87: 1, 88: 1, 89: 1, 90: 1, 91: 1, 92: 1, 93: 1, 94: 1, 95: 1, 96: 1, 97: 1, 98: 1, 99: 1}, 'I': {7: 11, 42: 8, 15: 8}, 'R': {}}\n",
      "{'S': {0: 1, 1: 1, 2: 1, 3: 1, 4: 1, 5: 1, 6: 1, 8: 1, 9: 1, 10: 1, 11: 1, 12: 1, 13: 1, 14: 1, 16: 1, 17: 1, 18: 1, 19: 1, 20: 1, 21: 1, 22: 1, 23: 1, 24: 1, 25: 1, 26: 1, 27: 1, 28: 1, 29: 1, 30: 1, 31: 1, 32: 1, 33: 1, 34: 1, 35: 1, 36: 1, 37: 1, 38: 1, 39: 1, 41: 1, 43: 1, 44: 1, 45: 1, 46: 1, 47: 1, 48: 1, 49: 1, 50: 1, 51: 1, 52: 1, 53: 1, 54: 1, 55: 1, 56: 1, 57: 1, 58: 1, 59: 1, 60: 1, 61: 1, 62: 1, 63: 1, 64: 1, 65: 1, 66: 1, 67: 1, 68: 1, 69: 1, 70: 1, 71: 1, 72: 1, 73: 1, 74: 1, 75: 1, 76: 1, 77: 1, 78: 1, 79: 1, 80: 1, 81: 1, 82: 1, 83: 1, 84: 1, 85: 1, 86: 1, 87: 1, 88: 1, 89: 1, 90: 1, 91: 1, 92: 1, 93: 1, 94: 1, 95: 1, 96: 1, 97: 1, 98: 1, 99: 1}, 'I': {7: 10, 42: 7, 15: 7, 40: 17}, 'R': {}}\n",
      "{'S': {0: 1, 1: 1, 2: 1, 3: 1, 4: 1, 5: 1, 6: 1, 8: 1, 9: 1, 10: 1, 11: 1, 12: 1, 13: 1, 14: 1, 16: 1, 17: 1, 18: 1, 19: 1, 20: 1, 21: 1, 22: 1, 23: 1, 24: 1, 25: 1, 26: 1, 27: 1, 28: 1, 29: 1, 30: 1, 31: 1, 32: 1, 33: 1, 34: 1, 35: 1, 36: 1, 37: 1, 38: 1, 39: 1, 41: 1, 43: 1, 44: 1, 45: 1, 46: 1, 47: 1, 48: 1, 49: 1, 50: 1, 51: 1, 52: 1, 53: 1, 54: 1, 55: 1, 56: 1, 57: 1, 58: 1, 59: 1, 60: 1, 61: 1, 62: 1, 63: 1, 64: 1, 65: 1, 66: 1, 67: 1, 68: 1, 69: 1, 71: 1, 72: 1, 73: 1, 74: 1, 75: 1, 76: 1, 77: 1, 78: 1, 79: 1, 80: 1, 81: 1, 82: 1, 83: 1, 84: 1, 85: 1, 86: 1, 87: 1, 88: 1, 89: 1, 90: 1, 91: 1, 92: 1, 93: 1, 94: 1, 95: 1, 96: 1, 97: 1, 98: 1, 99: 1}, 'I': {7: 9, 42: 6, 15: 6, 40: 16, 70: 18}, 'R': {}}\n",
      "{'S': {0: 1, 1: 1, 2: 1, 3: 1, 4: 1, 5: 1, 6: 1, 8: 1, 9: 1, 10: 1, 11: 1, 12: 1, 13: 1, 14: 1, 16: 1, 17: 1, 19: 1, 20: 1, 21: 1, 22: 1, 23: 1, 24: 1, 25: 1, 26: 1, 27: 1, 28: 1, 29: 1, 30: 1, 31: 1, 32: 1, 33: 1, 34: 1, 35: 1, 36: 1, 37: 1, 38: 1, 39: 1, 41: 1, 43: 1, 44: 1, 45: 1, 46: 1, 47: 1, 48: 1, 49: 1, 50: 1, 51: 1, 52: 1, 53: 1, 54: 1, 55: 1, 56: 1, 57: 1, 58: 1, 59: 1, 60: 1, 61: 1, 62: 1, 63: 1, 64: 1, 65: 1, 66: 1, 67: 1, 68: 1, 69: 1, 71: 1, 72: 1, 73: 1, 74: 1, 75: 1, 76: 1, 77: 1, 78: 1, 79: 1, 80: 1, 81: 1, 82: 1, 83: 1, 84: 1, 85: 1, 86: 1, 87: 1, 88: 1, 89: 1, 90: 1, 91: 1, 92: 1, 93: 1, 94: 1, 95: 1, 96: 1, 97: 1, 98: 1, 99: 1}, 'I': {7: 8, 42: 5, 15: 5, 40: 15, 70: 17, 18: 13}, 'R': {}}\n"
     ]
    }
   ],
   "source": [
    "for i in range(5):\n",
    "    foo.step()\n",
    "    print(foo.state)"
   ]
  },
  {
   "cell_type": "code",
   "execution_count": null,
   "metadata": {},
   "outputs": [],
   "source": []
  },
  {
   "cell_type": "code",
   "execution_count": 8,
   "metadata": {},
   "outputs": [],
   "source": [
    "foo = Pandemic(10000, 2, 3)\n",
    "history = [[len(foo.state['S']), len(foo.state['I']), len(foo.state['R']), len(foo.state['D'])]]\n",
    "for i in range(100):\n",
    "    foo.step()\n",
    "    history.append([len(foo.state['S']), len(foo.state['I']), len(foo.state['R']), len(foo.state['D'])])"
   ]
  },
  {
   "cell_type": "code",
   "execution_count": 9,
   "metadata": {},
   "outputs": [
    {
     "data": {
      "text/plain": [
       "[<matplotlib.lines.Line2D at 0x1b480334d88>,\n",
       " <matplotlib.lines.Line2D at 0x1b48033fe08>,\n",
       " <matplotlib.lines.Line2D at 0x1b48033ffc8>,\n",
       " <matplotlib.lines.Line2D at 0x1b48034c1c8>]"
      ]
     },
     "execution_count": 9,
     "metadata": {},
     "output_type": "execute_result"
    },
    {
     "data": {
      "image/png": "[encoded data removed]",
      "text/plain": [
       "<Figure size 432x288 with 1 Axes>"
      ]
     },
     "metadata": {
      "needs_background": "light"
     },
     "output_type": "display_data"
    }
   ],
   "source": [
    "plt.plot(history)"
   ]
  },
  {
   "cell_type": "code",
   "execution_count": 10,
   "metadata": {},
   "outputs": [
    {
     "data": {
      "text/plain": [
       "96"
      ]
     },
     "execution_count": 10,
     "metadata": {},
     "output_type": "execute_result"
    }
   ],
   "source": [
    "len(foo.state['D'])"
   ]
  },
  {
   "cell_type": "markdown",
   "metadata": {},
   "source": [
    "### TODO"
   ]
  },
  {
   "cell_type": "markdown",
   "metadata": {},
   "source": [
    "- Visitantes estrangeiros\n",
    "- ~~Separar mortos de recuperados~~\n",
    "- ~~Adicionar grupo de risco no calculo da mortalidade~~\n",
    "- Adicionar infecções latentes, não sintomaticas\n",
    "- Nas conexões, colocar uma série de variaveis:\n",
    "    - Usa transporte público\n",
    "    - Isolamento completo\n",
    "    - Isolamento parcial\n",
    "    - ...\n",
    "- Conexões serem uma função da distribuição de densidade domográfica\n",
    "- ...\n"
   ]
  },
  {
   "cell_type": "markdown",
   "metadata": {},
   "source": [
    "### Bibliografia"
   ]
  },
  {
   "cell_type": "code",
   "execution_count": null,
   "metadata": {},
   "outputs": [],
   "source": [
    "# piramide etaria de são paulo\n",
    "# https://censo2010.ibge.gov.br/sinopse/webservice/frm_piramide.php?codigo=35\n",
    "\n",
    "# mortalidade por idade cornavirus\n",
    "# https://www.weforum.org/agenda/2020/03/coronavirus-covid19-cov2-wuhan-china-virus-disease-risks-fatality-rates"
   ]
  },
  {
   "cell_type": "markdown",
   "metadata": {},
   "source": [
    "### Debug"
   ]
  },
  {
   "cell_type": "code",
   "execution_count": 96,
   "metadata": {},
   "outputs": [],
   "source": [
    "times_ts = []\n",
    "for i in range(10, 2001, 10):\n",
    "    start_time = time.time()\n",
    "    \n",
    "    foo = Pandemic(i, 2, 3)\n",
    "    history = [[len(foo.state['S']), len(foo.state['I']), len(foo.state['R'])]]\n",
    "    for i in range(100):\n",
    "        foo.step()\n",
    "        history.append([len(foo.state['S']), len(foo.state['I']), len(foo.state['R'])])\n",
    "        \n",
    "    times_ts.append(time.time() - start_time)"
   ]
  },
  {
   "cell_type": "code",
   "execution_count": 97,
   "metadata": {},
   "outputs": [
    {
     "data": {
      "text/plain": [
       "[<matplotlib.lines.Line2D at 0x2af1d7eacc8>]"
      ]
     },
     "execution_count": 97,
     "metadata": {},
     "output_type": "execute_result"
    },
    {
     "data": {
      "image/png": "[encoded data removed]",
      "text/plain": [
       "<Figure size 432x288 with 1 Axes>"
      ]
     },
     "metadata": {
      "needs_background": "light"
     },
     "output_type": "display_data"
    }
   ],
   "source": [
    "plt.plot(times_ts)"
   ]
  },
  {
   "cell_type": "code",
   "execution_count": 88,
   "metadata": {},
   "outputs": [],
   "source": [
    "a.append(1)"
   ]
  },
  {
   "cell_type": "code",
   "execution_count": 89,
   "metadata": {},
   "outputs": [
    {
     "data": {
      "text/plain": [
       "[1, 2, 3, 1]"
      ]
     },
     "execution_count": 89,
     "metadata": {},
     "output_type": "execute_result"
    }
   ],
   "source": [
    "a"
   ]
  },
  {
   "cell_type": "code",
   "execution_count": null,
   "metadata": {},
   "outputs": [],
   "source": []
  }
 ],
 "metadata": {
  "kernelspec": {
   "display_name": "Python 3",
   "language": "python",
   "name": "python3"
  },
  "language_info": {
   "codemirror_mode": {
    "name": "ipython",
    "version": 3
   },
   "file_extension": ".py",
   "mimetype": "text/x-python",
   "name": "python",
   "nbconvert_exporter": "python",
   "pygments_lexer": "ipython3",
   "version": "3.7.7"
  }
 },
 "nbformat": 4,
 "nbformat_minor": 4
}
